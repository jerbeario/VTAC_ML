{
 "cells": [
  {
   "cell_type": "markdown",
   "id": "c6da411b-42b9-4643-a09c-9e90aa7d7da7",
   "metadata": {},
   "source": [
    "# Top\n",
    "This notebook is used as a sandbox, for quickly testing code. Nothing here is permanent."
   ]
  },
  {
   "cell_type": "code",
   "execution_count": 1,
   "id": "23fef005-bc23-4258-9427-a0db160d6c65",
   "metadata": {},
   "outputs": [],
   "source": [
    "import pandas as pd\n",
    "import numpy as np\n",
    "import matplotlib.pyplot as plt\n",
    "from astropy.table import Table\n",
    "from astropy.io import fits\n",
    "from itertools import product\n",
    "\n",
    "from pprint import pprint\n",
    "from pathlib import Path\n",
    "import logging\n",
    "import sys\n",
    "logging.basicConfig(\n",
    "    stream=sys.stdout, level=logging.DEBUG,\n",
    "    format=\"%(asctime)s | %(levelname)-8s | : %(message)s\",\n",
    ")\n",
    "log = logging.getLogger(__name__)\n"
   ]
  },
  {
   "cell_type": "code",
   "execution_count": 2,
   "id": "41193040-4572-4f0e-9a08-fa6898333a60",
   "metadata": {},
   "outputs": [],
   "source": [
    "SVOM_DIR = Path('~/SVOM_pipeline').expanduser()\n",
    "VT_SIM_DIR = SVOM_DIR/'VT_simulations'"
   ]
  },
  {
   "cell_type": "code",
   "execution_count": 3,
   "id": "52089dfd-f622-4a16-bffb-06a09f5d535a",
   "metadata": {},
   "outputs": [],
   "source": [
    "# X_GRB = 334.79\n",
    "# Y_GRB = 269.88\n",
    "# From Yulei\n",
    "GRB_pos = {\n",
    "    \"bright_case1\": [360.50, 291.50],\n",
    "    \"bright_case1a\": [346.50, 321.50],\n",
    "    \"bright_case2\": [402.50, 219.50],\n",
    "    \"bright_case3\": [402.50, 219.50],\n",
    "    \"bright_case4\": [377.50, 206.50],\n",
    "    \"faint_case1\": [360.50, 291.50],\n",
    "}\n",
    "sequences = [\"s1\", \"s2\", \"s3\", \"s4\"]\n",
    "bands = [\"B\", \"R\"]"
   ]
  },
  {
   "cell_type": "code",
   "execution_count": null,
   "id": "152d4cc9-8eb9-4bb0-9d15-b15df0ba2945",
   "metadata": {
    "scrolled": true
   },
   "outputs": [],
   "source": [
    "sim_ids = [f\"{i:07}\" for i in np.arange(1, 365)]\n",
    "dx = 1\n",
    "dy = 1\n",
    "case = 'faint_case1'\n",
    "log.setLevel(logging.ERROR)\n",
    "X_GRB, Y_GRB = GRB_pos[case]\n",
    "i_miss = i_found = 0\n",
    "for sim_id in sim_ids:\n",
    "    log.warning(f\"Processing simulation {sim_id}\")\n",
    "    found = False\n",
    "    # log.info(f\"Processing simulation {sim_id}\")\n",
    "    # hdul = fits.open(VT_SIM_DIR/f'bright_case1/fits/qsrclist_vt/{sim_id}_qsrclist_vt.fits')\n",
    "    # for hdu in hdul:\n",
    "        # if \"PRIMARY\" in hdu.name.upper():\n",
    "            # continue\n",
    "        # seq = hdu.name.split('_')[-1]\n",
    "        # tab = Table.read(hdu)\n",
    "    \n",
    "    for seq_n, band in product(sequences, bands):\n",
    "        fname = VT_SIM_DIR / f\"{case}/qsrclist_{case}_{seq_n}/{sim_id}_QSCRLIST_{seq_n}_{band}.dat\"\n",
    "        seq = f\"{band}{int(seq_n[-1])-1}\"\n",
    "\n",
    "        if not fname.exists():\n",
    "            # log.warning(f\"Sequence {seq} missing for simulation {sim_id} of {case}\")\n",
    "            continue\n",
    "\n",
    "        tab = Table.read(\n",
    "                fname,\n",
    "                format=\"ascii\",\n",
    "                delimiter=r\"\\s\",\n",
    "                guess=False,\n",
    "                fast_reader=False,\n",
    "                names=[\n",
    "                    \"id\",\n",
    "                    \"X\",\n",
    "                    \"Y\",\n",
    "                    \"ra\",\n",
    "                    \"dec\",\n",
    "                    \"mag\",\n",
    "                    \"magerr\",\n",
    "                    \"flag\",\n",
    "                    \"ellipticity\",\n",
    "                ],\n",
    "            )\n",
    "\n",
    "        cond = (np.abs(tab[\"X\"]-X_GRB) <= dx) & (np.abs(tab[\"Y\"]-Y_GRB) <= dy)\n",
    "        if len(tab[cond]) > 0:\n",
    "            log.info(\n",
    "                f\"Sequence {seq}: {len(tab[cond])} source(s) within ({dx},{dy}) pixels of the GRB position: ({X_GRB},{Y_GRB})\"\n",
    "            )\n",
    "            log.debug(\n",
    "                f\"Table:\\n{tab[cond]}\\n\"\n",
    "            )\n",
    "            found = True\n",
    "        else:\n",
    "            log.warning(\n",
    "                f\"Sequence {seq}: no sources within ({dx},{dy}) pixels of the GRB position: ({X_GRB},{Y_GRB})\"\n",
    "               )\n",
    "\n",
    "    if found:\n",
    "        i_found += 1\n",
    "    else:\n",
    "        i_miss += 1\n"
   ]
  },
  {
   "cell_type": "code",
   "execution_count": 71,
   "id": "3ca6045e-d875-4749-9425-adef403638dc",
   "metadata": {},
   "outputs": [
    {
     "name": "stdout",
     "output_type": "stream",
     "text": [
      "Simulations: 229 with GRB found, 135 without, (364 total)\n"
     ]
    }
   ],
   "source": [
    "print(f\"Simulations: {i_found} with GRB found, {i_miss} without, ({i_miss+i_found} total)\")"
   ]
  },
  {
   "cell_type": "code",
   "execution_count": 73,
   "id": "269c2a1a-5f0e-4908-94fa-1fef7a92d62c",
   "metadata": {},
   "outputs": [
    {
     "data": {
      "text/html": [
       "<div><i>Table length=1</i>\n",
       "<table id=\"table4892127440\" class=\"table-striped table-bordered table-condensed\">\n",
       "<thead><tr><th>id</th><th>X</th><th>Y</th><th>ra</th><th>dec</th><th>mag</th><th>magerr</th><th>flag</th><th>ellipticity</th></tr></thead>\n",
       "<thead><tr><th>int64</th><th>float64</th><th>float64</th><th>float64</th><th>float64</th><th>float64</th><th>float64</th><th>int64</th><th>float64</th></tr></thead>\n",
       "<tr><td>120</td><td>377.39</td><td>206.95</td><td>162.268692</td><td>32.4273071</td><td>21.27</td><td>0.02</td><td>0</td><td>0.07</td></tr>\n",
       "</table></div>"
      ],
      "text/plain": [
       "<Table length=1>\n",
       "  id     X       Y        ra        dec       mag    magerr  flag ellipticity\n",
       "int64 float64 float64  float64    float64   float64 float64 int64   float64  \n",
       "----- ------- ------- ---------- ---------- ------- ------- ----- -----------\n",
       "  120  377.39  206.95 162.268692 32.4273071   21.27    0.02     0        0.07"
      ]
     },
     "execution_count": 73,
     "metadata": {},
     "output_type": "execute_result"
    }
   ],
   "source": [
    "tab[cond]"
   ]
  },
  {
   "cell_type": "code",
   "execution_count": 85,
   "id": "4021a633-ac62-48cd-a0b0-4f6956144b54",
   "metadata": {},
   "outputs": [],
   "source": [
    "case = 'bright_case1'\n",
    "sim_id = sim_ids[0]\n",
    "qsrclist_vt_fname = VT_SIM_DIR / f\"{case}/fits/qsrclist_vt/{sim_id}_qsrclist_vt.fits\"\n",
    "qpo_vt_fname = VT_SIM_DIR / f\"{case}/fits/qpo_vt/{sim_id}_qpo_vt.fits\"\n"
   ]
  },
  {
   "cell_type": "code",
   "execution_count": 151,
   "id": "786c6745-299d-4022-ad57-23d6024780cf",
   "metadata": {},
   "outputs": [
    {
     "data": {
      "text/plain": [
       "{'a': 2, 'b': 2}"
      ]
     },
     "execution_count": 151,
     "metadata": {},
     "output_type": "execute_result"
    }
   ],
   "source": [
    "tab = Table.read(qpo_vt_fname, hdu=\"COMBINED\")\n",
    "d1 = {\n",
    "    'a':tab[tab[\"OBJID_R0\"] == 3][\"VT_ID\"][0],\n",
    "    'b':tab[tab[\"OBJID_R0\"] == 3][\"VT_ID\"][0],\n",
    "}\n",
    "d1"
   ]
  },
  {
   "cell_type": "code",
   "execution_count": 147,
   "id": "6b0b9e40-87ec-4454-b7c0-9a9383edf0b2",
   "metadata": {},
   "outputs": [
    {
     "data": {
      "text/plain": [
       "array([ 2, 13])"
      ]
     },
     "execution_count": 147,
     "metadata": {},
     "output_type": "execute_result"
    }
   ],
   "source": [
    "x = np.unique(list(d1.values()))\n",
    "x"
   ]
  },
  {
   "cell_type": "code",
   "execution_count": 152,
   "id": "7d8c9467-2ab8-408b-b915-e6714330dd9d",
   "metadata": {},
   "outputs": [
    {
     "data": {
      "text/plain": [
       "1"
      ]
     },
     "execution_count": 152,
     "metadata": {},
     "output_type": "execute_result"
    }
   ],
   "source": [
    "s = set(d1.values())\n",
    "len(s)"
   ]
  },
  {
   "cell_type": "code",
   "execution_count": 153,
   "id": "20db1751-289c-4ec9-a82a-176e4fa7aad2",
   "metadata": {},
   "outputs": [
    {
     "data": {
      "text/html": [
       "<div><i>Table length=0</i>\n",
       "<table id=\"table4887014000\" class=\"table-striped table-bordered table-condensed\">\n",
       "<thead><tr><th>VT_ID</th><th>RA</th><th>DEC</th><th>RADEC_OG</th><th>IN_MXT</th><th>OBJID_R0</th><th>OBJID_R1</th><th>OBJID_R2</th><th>OBJID_R3</th><th>OBJID_B0</th><th>OBJID_B1</th><th>OBJID_B2</th><th>OBJID_B3</th><th>RA_R0</th><th>RA_R1</th><th>RA_R2</th><th>RA_R3</th><th>RA_B0</th><th>RA_B1</th><th>RA_B2</th><th>RA_B3</th><th>DEC_R0</th><th>DEC_R1</th><th>DEC_R2</th><th>DEC_R3</th><th>DEC_B0</th><th>DEC_B1</th><th>DEC_B2</th><th>DEC_B3</th><th>MAGCAL_R0</th><th>MAGCAL_R1</th><th>MAGCAL_R2</th><th>MAGCAL_R3</th><th>MAGCAL_B0</th><th>MAGCAL_B1</th><th>MAGCAL_B2</th><th>MAGCAL_B3</th><th>MAGERR_R0</th><th>MAGERR_R1</th><th>MAGERR_R2</th><th>MAGERR_R3</th><th>MAGERR_B0</th><th>MAGERR_B1</th><th>MAGERR_B2</th><th>MAGERR_B3</th><th>MAGVAR_R1</th><th>MAGVAR_R2</th><th>MAGVAR_R3</th><th>MAGVAR_B1</th><th>MAGVAR_B2</th><th>MAGVAR_B3</th><th>EFLAG_R0</th><th>EFLAG_R1</th><th>EFLAG_R2</th><th>EFLAG_R3</th><th>EFLAG_B0</th><th>EFLAG_B1</th><th>EFLAG_B2</th><th>EFLAG_B3</th><th>XFLAG_R0</th><th>XFLAG_R1</th><th>XFLAG_R2</th><th>XFLAG_R3</th><th>XFLAG_B0</th><th>XFLAG_B1</th><th>XFLAG_B2</th><th>XFLAG_B3</th><th>VFLAG_R1</th><th>VFLAG_R2</th><th>VFLAG_R3</th><th>VFLAG_B1</th><th>VFLAG_B2</th><th>VFLAG_B3</th><th>SEQFLAG0</th><th>SEQFLAG1</th><th>SEQFLAG2</th><th>SEQFLAG3</th><th>NEW_SRC</th><th>DMAG_CAT</th><th>MAG_VAR</th></tr></thead>\n",
       "<thead><tr><th></th><th>deg</th><th>deg</th><th></th><th></th><th></th><th></th><th></th><th></th><th></th><th></th><th></th><th></th><th>deg</th><th>deg</th><th>deg</th><th>deg</th><th>deg</th><th>deg</th><th>deg</th><th>deg</th><th>deg</th><th>deg</th><th>deg</th><th>deg</th><th>deg</th><th>deg</th><th>deg</th><th>deg</th><th></th><th></th><th></th><th></th><th></th><th></th><th></th><th></th><th></th><th></th><th></th><th></th><th></th><th></th><th></th><th></th><th></th><th></th><th></th><th></th><th></th><th></th><th></th><th></th><th></th><th></th><th></th><th></th><th></th><th></th><th></th><th></th><th></th><th></th><th></th><th></th><th></th><th></th><th></th><th></th><th></th><th></th><th></th><th></th><th></th><th></th><th></th><th></th><th></th><th></th><th></th></tr></thead>\n",
       "<thead><tr><th>int64</th><th>float64</th><th>float64</th><th>bytes2</th><th>int64</th><th>int64</th><th>int64</th><th>int64</th><th>int64</th><th>int64</th><th>int64</th><th>int64</th><th>int64</th><th>float64</th><th>float64</th><th>float64</th><th>float64</th><th>float64</th><th>float64</th><th>float64</th><th>float64</th><th>float64</th><th>float64</th><th>float64</th><th>float64</th><th>float64</th><th>float64</th><th>float64</th><th>float64</th><th>float64</th><th>float64</th><th>float64</th><th>float64</th><th>float64</th><th>float64</th><th>float64</th><th>float64</th><th>float64</th><th>float64</th><th>float64</th><th>float64</th><th>float64</th><th>float64</th><th>float64</th><th>float64</th><th>float64</th><th>float64</th><th>float64</th><th>float64</th><th>float64</th><th>float64</th><th>int64</th><th>int64</th><th>int64</th><th>int64</th><th>int64</th><th>int64</th><th>int64</th><th>int64</th><th>int64</th><th>int64</th><th>int64</th><th>int64</th><th>int64</th><th>int64</th><th>int64</th><th>int64</th><th>int64</th><th>int64</th><th>int64</th><th>int64</th><th>int64</th><th>int64</th><th>int64</th><th>int64</th><th>int64</th><th>int64</th><th>bytes30</th><th>bytes30</th><th>bytes35</th></tr></thead>\n",
       "</table></div>"
      ],
      "text/plain": [
       "<Table length=0>\n",
       "VT_ID    RA     DEC   RADEC_OG IN_MXT OBJID_R0 OBJID_R1 OBJID_R2 OBJID_R3 ... VFLAG_B2 VFLAG_B3 SEQFLAG0 SEQFLAG1 SEQFLAG2 SEQFLAG3 NEW_SRC DMAG_CAT MAG_VAR\n",
       "        deg     deg                                                       ...                                                                               \n",
       "int64 float64 float64  bytes2  int64   int64    int64    int64    int64   ...  int64    int64    int64    int64    int64    int64   bytes30 bytes30  bytes35\n",
       "----- ------- ------- -------- ------ -------- -------- -------- -------- ... -------- -------- -------- -------- -------- -------- ------- -------- -------"
      ]
     },
     "execution_count": 153,
     "metadata": {},
     "output_type": "execute_result"
    }
   ],
   "source": [
    "tab[tab[\"VT_ID\"] == s]"
   ]
  },
  {
   "cell_type": "code",
   "execution_count": 163,
   "id": "90bdd73a-dfbe-4eb5-b48c-82bcaf75da3a",
   "metadata": {},
   "outputs": [],
   "source": [
    "tab[\"IS_GRB\"] = np.zeros(len(tab), dtype=int)"
   ]
  },
  {
   "cell_type": "code",
   "execution_count": 168,
   "id": "a6632790-d6fc-4422-876e-254d113f02e9",
   "metadata": {},
   "outputs": [
    {
     "name": "stdout",
     "output_type": "stream",
     "text": [
      "VT_ID      RA        DEC     RADEC_OG IN_MXT OBJID_R0 OBJID_R1 OBJID_R2 OBJID_R3 ... SEQFLAG0 SEQFLAG1 SEQFLAG2 SEQFLAG3 NEW_SRC DMAG_CAT MAG_VAR IS_GRB\n",
      "          deg        deg                                                         ...                                                                    \n",
      "----- ----------- ---------- -------- ------ -------- -------- -------- -------- ... -------- -------- -------- -------- ------- -------- ------- ------\n",
      "    2 142.6154785 42.5499001       R3     -1        3        3        3        3 ...    12200    22222    32222    42222      --       --      --      1\n"
     ]
    }
   ],
   "source": [
    "for _s in s:\n",
    "    tab[\"IS_GRB\"][tab[\"VT_ID\"] == _s] = 1\n",
    "    print(tab[tab[\"VT_ID\"] == _s])\n",
    "    tab."
   ]
  },
  {
   "cell_type": "code",
   "execution_count": 171,
   "id": "dc5c1a3f-3d9e-4a2c-a6eb-410b8a896b09",
   "metadata": {},
   "outputs": [
    {
     "name": "stdout",
     "output_type": "stream",
     "text": [
      "Filename: /Users/palmerio/SVOM_pipeline/VT_simulations/bright_case1/fits/qsrclist_vt/0000353_qsrclist_vt.fits\n",
      "No.    Name      Ver    Type      Cards   Dimensions   Format\n",
      "  0  PrimaryHDU    1 PrimaryHDU      40   ()      \n"
     ]
    }
   ],
   "source": [
    "hdul = fits.open(VT_SIM_DIR/'bright_case1/fits/qsrclist_vt/0000353_qsrclist_vt.fits')\n",
    "hdul.info()"
   ]
  },
  {
   "cell_type": "code",
   "execution_count": 187,
   "id": "7397e4b3-5c54-4d8e-8852-446415b751ba",
   "metadata": {},
   "outputs": [
    {
     "name": "stdout",
     "output_type": "stream",
     "text": [
      "lol\n"
     ]
    }
   ],
   "source": [
    "x = ('lol','ok','not')\n",
    "for _x in x[:1]:\n",
    "    print(_x)"
   ]
  },
  {
   "cell_type": "code",
   "execution_count": 189,
   "id": "3b9aa3e9-5397-442a-beee-d5c2132a84f2",
   "metadata": {},
   "outputs": [
    {
     "data": {
      "text/plain": [
       "1706883827.5338619"
      ]
     },
     "execution_count": 189,
     "metadata": {},
     "output_type": "execute_result"
    }
   ],
   "source": [
    "import time\n",
    "t1 = time.time()\n",
    "t1"
   ]
  },
  {
   "cell_type": "code",
   "execution_count": null,
   "id": "59e1404a-d2d4-43b6-86c2-632c1f6cd687",
   "metadata": {},
   "outputs": [],
   "source": []
  }
 ],
 "metadata": {
  "kernelspec": {
   "display_name": "Python 3 (ipykernel)",
   "language": "python",
   "name": "python3"
  },
  "language_info": {
   "codemirror_mode": {
    "name": "ipython",
    "version": 3
   },
   "file_extension": ".py",
   "mimetype": "text/x-python",
   "name": "python",
   "nbconvert_exporter": "python",
   "pygments_lexer": "ipython3",
   "version": "3.10.13"
  }
 },
 "nbformat": 4,
 "nbformat_minor": 5
}
