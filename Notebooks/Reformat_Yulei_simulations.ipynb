{
 "cells": [
  {
   "cell_type": "code",
   "execution_count": 17,
   "id": "dd6af2db-0127-4162-a4e3-37cccb902894",
   "metadata": {},
   "outputs": [],
   "source": [
    "import pandas as pd\n",
    "import numpy as np\n",
    "import matplotlib.pyplot as plt\n",
    "from astropy.table import Table\n",
    "\n",
    "from svom.utils import FitsProductFromModel\n",
    "import vtac\n",
    "from vtac.handler import get_product_template\n",
    "\n",
    "from pprint import pprint\n",
    "from pathlib import Path\n",
    "import logging\n",
    "log = logging.getLogger(__name__)\n",
    "log.setLevel(logging.INFO)"
   ]
  },
  {
   "cell_type": "code",
   "execution_count": 2,
   "id": "e36f57d9-9deb-431a-9eaa-e8d170673b22",
   "metadata": {},
   "outputs": [],
   "source": [
    "SIM_DIR = Path('/Users/palmerio/SVOM_pipeline/VT_simulations/')"
   ]
  },
  {
   "cell_type": "code",
   "execution_count": 3,
   "id": "7c8769d3-a552-43d9-ac96-fd59bd24691e",
   "metadata": {},
   "outputs": [],
   "source": [
    "cases = [\n",
    "    'bright_case1',\n",
    "    'bright_case1a',\n",
    "    'bright_case2',\n",
    "    'bright_case3',\n",
    "    'bright_case4',\n",
    "    'faint_case1',\n",
    "    'faint_case2',\n",
    "    'faint_case3',\n",
    "    'faint_case4',\n",
    "]\n",
    "sequences = ['s1', 's2', 's3', 's4']\n",
    "bands = ['R', 'B']\n",
    "\n",
    "files = {case:{seq:{band:{} for band in bands} for seq in sequences} for case in cases}"
   ]
  },
  {
   "cell_type": "code",
   "execution_count": 4,
   "id": "28b3fab9-471c-437a-ae25-1ecf2fa0a31c",
   "metadata": {
    "scrolled": true
   },
   "outputs": [
    {
     "name": "stdout",
     "output_type": "stream",
     "text": [
      "{'bright_case1': {'s1': {'B': {}, 'R': {}},\n",
      "                  's2': {'B': {}, 'R': {}},\n",
      "                  's3': {'B': {}, 'R': {}},\n",
      "                  's4': {'B': {}, 'R': {}}},\n",
      " 'bright_case1a': {'s1': {'B': {}, 'R': {}},\n",
      "                   's2': {'B': {}, 'R': {}},\n",
      "                   's3': {'B': {}, 'R': {}},\n",
      "                   's4': {'B': {}, 'R': {}}},\n",
      " 'bright_case2': {'s1': {'B': {}, 'R': {}},\n",
      "                  's2': {'B': {}, 'R': {}},\n",
      "                  's3': {'B': {}, 'R': {}},\n",
      "                  's4': {'B': {}, 'R': {}}},\n",
      " 'bright_case3': {'s1': {'B': {}, 'R': {}},\n",
      "                  's2': {'B': {}, 'R': {}},\n",
      "                  's3': {'B': {}, 'R': {}},\n",
      "                  's4': {'B': {}, 'R': {}}},\n",
      " 'bright_case4': {'s1': {'B': {}, 'R': {}},\n",
      "                  's2': {'B': {}, 'R': {}},\n",
      "                  's3': {'B': {}, 'R': {}},\n",
      "                  's4': {'B': {}, 'R': {}}},\n",
      " 'faint_case1': {'s1': {'B': {}, 'R': {}},\n",
      "                 's2': {'B': {}, 'R': {}},\n",
      "                 's3': {'B': {}, 'R': {}},\n",
      "                 's4': {'B': {}, 'R': {}}},\n",
      " 'faint_case2': {'s1': {'B': {}, 'R': {}},\n",
      "                 's2': {'B': {}, 'R': {}},\n",
      "                 's3': {'B': {}, 'R': {}},\n",
      "                 's4': {'B': {}, 'R': {}}},\n",
      " 'faint_case3': {'s1': {'B': {}, 'R': {}},\n",
      "                 's2': {'B': {}, 'R': {}},\n",
      "                 's3': {'B': {}, 'R': {}},\n",
      "                 's4': {'B': {}, 'R': {}}},\n",
      " 'faint_case4': {'s1': {'B': {}, 'R': {}},\n",
      "                 's2': {'B': {}, 'R': {}},\n",
      "                 's3': {'B': {}, 'R': {}},\n",
      "                 's4': {'B': {}, 'R': {}}}}\n"
     ]
    }
   ],
   "source": [
    "pprint(files)"
   ]
  },
  {
   "cell_type": "markdown",
   "id": "bd78be8f-341b-4c40-b071-b1a69874a93f",
   "metadata": {},
   "source": [
    "## Create file paths"
   ]
  },
  {
   "cell_type": "code",
   "execution_count": 6,
   "id": "40fd80ba-28bc-4b80-9d1b-f2d5b64c9acb",
   "metadata": {},
   "outputs": [
    {
     "name": "stdout",
     "output_type": "stream",
     "text": [
      "238 different simulations for bright_case1\n",
      "237 different simulations for bright_case1a\n",
      "238 different simulations for bright_case2\n",
      "238 different simulations for bright_case3\n",
      "238 different simulations for bright_case4\n",
      "238 different simulations for faint_case1\n",
      "238 different simulations for faint_case2\n",
      "238 different simulations for faint_case3\n",
      "238 different simulations for faint_case4\n",
      "Total number of files: 16625\n"
     ]
    }
   ],
   "source": [
    "n_files_tot = 0\n",
    "for case in cases:\n",
    "    _dir = SIM_DIR/f\"{case}/qsrclist_{case}_s1/\"\n",
    "    sim_ids = np.unique([f.stem.split('_')[0] for f in _dir.glob(\"*.dat\")])\n",
    "    print(f\"{len(sim_ids)} different simulations for {case}\")\n",
    "    files[case][\"sim_ids\"] = sim_ids\n",
    "    \n",
    "    for seq in sequences:\n",
    "        for band in bands:\n",
    "            dir = SIM_DIR/f\"{case}/qsrclist_{case}_{seq}/\"\n",
    "            # Get all files matching a pattern\n",
    "            _files = [f for f in dir.glob(f\"*_{band}.dat\")]\n",
    "            _files.sort()\n",
    "            files[case][seq][band] = _files\n",
    "            n_files_tot += len(_files)\n",
    "print(f\"Total number of files: {n_files_tot}\")\n",
    "# Simulation 71 is missing from bright_case1a, dunno why"
   ]
  },
  {
   "cell_type": "markdown",
   "id": "c8105573-d2b6-42c6-90fa-d66c7ca850d3",
   "metadata": {},
   "source": [
    "## Create fits product"
   ]
  }
 ],
 "metadata": {
  "kernelspec": {
   "display_name": "Python 3 (ipykernel)",
   "language": "python",
   "name": "python3"
  },
  "language_info": {
   "codemirror_mode": {
    "name": "ipython",
    "version": 3
   },
   "file_extension": ".py",
   "mimetype": "text/x-python",
   "name": "python",
   "nbconvert_exporter": "python",
   "pygments_lexer": "ipython3",
   "version": "3.10.13"
  }
 },
 "nbformat": 4,
 "nbformat_minor": 5
}
