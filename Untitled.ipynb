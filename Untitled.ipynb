{
 "cells": [
  {
   "cell_type": "markdown",
   "id": "75207a47-53e2-4540-b822-48a3b0accc34",
   "metadata": {},
   "source": [
    "# Optical Identification of GRBs Using Machine Learning Techniques on Simulated Data "
   ]
  },
  {
   "cell_type": "markdown",
   "id": "72062ce9-46ff-4dfa-8b19-e3d948bd6c86",
   "metadata": {},
   "source": [
    "## Final Pipeline"
   ]
  },
  {
   "cell_type": "code",
   "execution_count": null,
   "id": "8dda3a52-0812-492e-95bb-616856449165",
   "metadata": {},
   "outputs": [],
   "source": []
  }
 ],
 "metadata": {
  "kernelspec": {
   "display_name": "Python 3 (ipykernel)",
   "language": "python",
   "name": "python3"
  },
  "language_info": {
   "codemirror_mode": {
    "name": "ipython",
    "version": 3
   },
   "file_extension": ".py",
   "mimetype": "text/x-python",
   "name": "python",
   "nbconvert_exporter": "python",
   "pygments_lexer": "ipython3",
   "version": "3.12.0"
  }
 },
 "nbformat": 4,
 "nbformat_minor": 5
}
