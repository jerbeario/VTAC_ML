{
 "cells": [
  {
   "cell_type": "markdown",
   "id": "75207a47-53e2-4540-b822-48a3b0accc34",
   "metadata": {},
   "source": [
    "# Optical Identification of GRBs Using Machine Learning Techniques on Simulated Data "
   ]
  },
  {
   "cell_type": "code",
   "execution_count": 2,
   "id": "298e0dbb-81d5-403c-b910-72c051888334",
   "metadata": {},
   "outputs": [],
   "source": [
    "import pandas as pd\n",
    "import numpy as np"
   ]
  },
  {
   "cell_type": "code",
   "execution_count": 5,
   "id": "5afe3b35-86d9-4963-9fea-0fba7e225b19",
   "metadata": {},
   "outputs": [],
   "source": [
    "df = pd.read_parquet('data/combined_qpo_vt_all_cases_with_GRB_with_flags.parquet', engine='fastparquet')\n",
    "df.to_csv(path_or_buf='data/combined_qpo_vt_all_cases_with_GRB_with_flags.csv')"
   ]
  },
  {
   "cell_type": "code",
   "execution_count": 31,
   "id": "f36d363d-652f-43aa-a79d-0a89ba2b5042",
   "metadata": {},
   "outputs": [
    {
     "name": "stdout",
     "output_type": "stream",
     "text": [
      "<class 'pandas.core.frame.DataFrame'>\n",
      "RangeIndex: 564794 entries, 0 to 564793\n",
      "Data columns (total 43 columns):\n",
      " #   Column     Non-Null Count   Dtype  \n",
      "---  ------     --------------   -----  \n",
      " 0   VT_ID      564794 non-null  int64  \n",
      " 1   RA         564794 non-null  float64\n",
      " 2   DEC        564794 non-null  float64\n",
      " 3   MAGCAL_R0  413758 non-null  float64\n",
      " 4   MAGCAL_R1  423094 non-null  float64\n",
      " 5   MAGCAL_R2  420718 non-null  float64\n",
      " 6   MAGCAL_R3  433421 non-null  float64\n",
      " 7   MAGCAL_B0  343293 non-null  float64\n",
      " 8   MAGCAL_B1  384444 non-null  float64\n",
      " 9   MAGCAL_B2  382679 non-null  float64\n",
      " 10  MAGCAL_B3  398935 non-null  float64\n",
      " 11  MAGERR_R0  413758 non-null  float64\n",
      " 12  MAGERR_R1  423094 non-null  float64\n",
      " 13  MAGERR_R2  420718 non-null  float64\n",
      " 14  MAGERR_R3  433421 non-null  float64\n",
      " 15  MAGERR_B0  343293 non-null  float64\n",
      " 16  MAGERR_B1  384444 non-null  float64\n",
      " 17  MAGERR_B2  382679 non-null  float64\n",
      " 18  MAGERR_B3  398935 non-null  float64\n",
      " 19  MAGVAR_R1  383321 non-null  float64\n",
      " 20  MAGVAR_R2  393443 non-null  float64\n",
      " 21  MAGVAR_R3  408733 non-null  float64\n",
      " 22  MAGVAR_B1  323844 non-null  float64\n",
      " 23  MAGVAR_B2  358961 non-null  float64\n",
      " 24  MAGVAR_B3  376558 non-null  float64\n",
      " 25  EFLAG_R0   413758 non-null  Int64  \n",
      " 26  EFLAG_R1   423094 non-null  Int64  \n",
      " 27  EFLAG_R2   420718 non-null  Int64  \n",
      " 28  EFLAG_R3   433421 non-null  Int64  \n",
      " 29  EFLAG_B0   343293 non-null  Int64  \n",
      " 30  EFLAG_B1   384444 non-null  Int64  \n",
      " 31  EFLAG_B2   382679 non-null  Int64  \n",
      " 32  EFLAG_B3   398935 non-null  Int64  \n",
      " 33  SEQFLAG0   564794 non-null  int64  \n",
      " 34  SEQFLAG1   564794 non-null  int64  \n",
      " 35  SEQFLAG2   564794 non-null  int64  \n",
      " 36  SEQFLAG3   564794 non-null  int64  \n",
      " 37  NEW_SRC    564794 non-null  object \n",
      " 38  DMAG_CAT   564794 non-null  object \n",
      " 39  MAG_VAR    564794 non-null  object \n",
      " 40  IS_GRB     564794 non-null  int64  \n",
      " 41  CASE       564794 non-null  object \n",
      " 42  SIM_ID     564794 non-null  int64  \n",
      "dtypes: Int64(8), float64(24), int64(7), object(4)\n",
      "memory usage: 189.6+ MB\n"
     ]
    },
    {
     "data": {
      "text/plain": [
       "(VT_ID        False\n",
       " RA           False\n",
       " DEC          False\n",
       " MAGCAL_R0     True\n",
       " MAGCAL_R1     True\n",
       " MAGCAL_R2     True\n",
       " MAGCAL_R3     True\n",
       " MAGCAL_B0     True\n",
       " MAGCAL_B1     True\n",
       " MAGCAL_B2     True\n",
       " MAGCAL_B3     True\n",
       " MAGERR_R0     True\n",
       " MAGERR_R1     True\n",
       " MAGERR_R2     True\n",
       " MAGERR_R3     True\n",
       " MAGERR_B0     True\n",
       " MAGERR_B1     True\n",
       " MAGERR_B2     True\n",
       " MAGERR_B3     True\n",
       " MAGVAR_R1     True\n",
       " MAGVAR_R2     True\n",
       " MAGVAR_R3     True\n",
       " MAGVAR_B1     True\n",
       " MAGVAR_B2     True\n",
       " MAGVAR_B3     True\n",
       " EFLAG_R0      True\n",
       " EFLAG_R1      True\n",
       " EFLAG_R2      True\n",
       " EFLAG_R3      True\n",
       " EFLAG_B0      True\n",
       " EFLAG_B1      True\n",
       " EFLAG_B2      True\n",
       " EFLAG_B3      True\n",
       " SEQFLAG0     False\n",
       " SEQFLAG1     False\n",
       " SEQFLAG2     False\n",
       " SEQFLAG3     False\n",
       " NEW_SRC      False\n",
       " DMAG_CAT     False\n",
       " MAG_VAR      False\n",
       " IS_GRB       False\n",
       " CASE         False\n",
       " SIM_ID       False\n",
       " dtype: bool,\n",
       " None)"
      ]
     },
     "execution_count": 31,
     "metadata": {},
     "output_type": "execute_result"
    }
   ],
   "source": [
    "df.isna().any(), df.info()"
   ]
  },
  {
   "cell_type": "code",
   "execution_count": 89,
   "id": "fdffbc8a-3857-4ef6-9ed3-3792d823711c",
   "metadata": {},
   "outputs": [],
   "source": [
    "def handle_nans( X, y=None):\n",
    "    X_ = X.copy()\n",
    "    for column in X.columns:\n",
    "        if X[column].isna().sum():\n",
    "            # Create the isna column\n",
    "            new_column_name = f'{column}_isnan'\n",
    "            X_[new_column_name] = X_[column].isna().astype(int)\n",
    "            # Impute missing values with the mean \n",
    "            impute_value = X_[column].median()\n",
    "            X_[column].fillna(impute_value, inplace=True)\n",
    "    return X_"
   ]
  },
  {
   "cell_type": "code",
   "execution_count": 90,
   "id": "0d7ef086-f28e-4473-bd1c-4700403d48da",
   "metadata": {},
   "outputs": [],
   "source": [
    "cols =['MAGCAL_R0',   \n",
    "       'MAGCAL_R1',\n",
    "       'MAGCAL_R2',\n",
    "       'MAGCAL_R3',\n",
    "       'MAGCAL_B0',\n",
    "       'MAGCAL_B1',\n",
    "       'MAGCAL_B2',\n",
    "       'MAGCAL_B3',\n",
    "       'MAGERR_R0',\n",
    "       'MAGERR_R1',\n",
    "       'MAGERR_R2',\n",
    "       'MAGERR_R3',\n",
    "       'MAGERR_B0',\n",
    "       'MAGERR_B1',\n",
    "       'MAGERR_B2',\n",
    "       'MAGERR_B3',\n",
    "       'MAGVAR_R1',\n",
    "       'MAGVAR_R2',\n",
    "       'MAGVAR_R3',\n",
    "       'MAGVAR_B1',\n",
    "       'MAGVAR_B2',   \n",
    "       'MAGVAR_B3']\n",
    "clean_df = handle_nans(df)\n"
   ]
  },
  {
   "cell_type": "code",
   "execution_count": null,
   "id": "20b5fbf0-45e2-4ea6-bf2e-99667b073052",
   "metadata": {},
   "outputs": [],
   "source": []
  },
  {
   "cell_type": "code",
   "execution_count": 39,
   "id": "798a5b1b-9e90-46a7-acec-525b97ecdc9a",
   "metadata": {},
   "outputs": [
    {
     "data": {
      "text/plain": [
       "MAGCAL_R0    False\n",
       "MAGCAL_R1    False\n",
       "MAGCAL_R2    False\n",
       "MAGCAL_R3    False\n",
       "MAGCAL_B0    False\n",
       "MAGCAL_B1    False\n",
       "MAGCAL_B2    False\n",
       "MAGCAL_B3    False\n",
       "MAGERR_R0    False\n",
       "MAGERR_R1    False\n",
       "MAGERR_R2    False\n",
       "MAGERR_R3    False\n",
       "MAGERR_B0    False\n",
       "MAGERR_B1    False\n",
       "MAGERR_B2    False\n",
       "MAGERR_B3    False\n",
       "MAGVAR_R1    False\n",
       "MAGVAR_R2    False\n",
       "MAGVAR_R3    False\n",
       "MAGVAR_B1    False\n",
       "MAGVAR_B2    False\n",
       "MAGVAR_B3    False\n",
       "dtype: bool"
      ]
     },
     "execution_count": 39,
     "metadata": {},
     "output_type": "execute_result"
    }
   ],
   "source": [
    "clean_df[cols].isna().any()"
   ]
  },
  {
   "cell_type": "code",
   "execution_count": 66,
   "id": "dcbcc29c-6684-46ae-9cfe-8359b3b4bca4",
   "metadata": {},
   "outputs": [
    {
     "data": {
      "text/plain": [
       "<Axes: ylabel='Frequency'>"
      ]
     },
     "execution_count": 66,
     "metadata": {},
     "output_type": "execute_result"
    },
    {
     "data": {
      "image/png": "[encoded data removed]",
      "text/plain": [
       "<Figure size 640x480 with 1 Axes>"
      ]
     },
     "metadata": {},
     "output_type": "display_data"
    }
   ],
   "source": [
    "df['EFLAG_B0'].plot(kind='hist', bins=np.max(df['EFLAG_B0']))"
   ]
  },
  {
   "cell_type": "code",
   "execution_count": 91,
   "id": "3c2bae97-957a-4c42-850f-eb428995abcc",
   "metadata": {},
   "outputs": [],
   "source": [
    "import yaml\n",
    "config_path = 'VTAC_ML_Classifier/config/config.yaml'\n",
    "with open(config_path, 'r') as f:\n",
    "            config = yaml.safe_load(f)"
   ]
  },
  {
   "cell_type": "code",
   "execution_count": 98,
   "id": "43f906cc-f4e4-43c4-9a95-36219821a202",
   "metadata": {},
   "outputs": [
    {
     "name": "stdout",
     "output_type": "stream",
     "text": [
      "rfc\n",
      "RandomForestClassifier()\n",
      "ada\n",
      "AdaBoostClassifier()\n"
     ]
    },
    {
     "data": {
      "text/plain": [
       "{'rfc': 'RandomForestClassifier()', 'ada': 'AdaBoostClassifier()'}"
      ]
     },
     "execution_count": 98,
     "metadata": {},
     "output_type": "execute_result"
    }
   ],
   "source": [
    "dict = {}\n",
    "\n",
    "for model in config['Models']:\n",
    "    dict[model] = config['Models'][model]['class']\n",
    "\n",
    "dict"
   ]
  },
  {
   "cell_type": "code",
   "execution_count": 139,
   "id": "75063301-0be9-468f-b073-2c23a58f2369",
   "metadata": {},
   "outputs": [],
   "source": [
    "df['NEW_SRC'].value_counts()\n",
    "df['NEW_SRC'] = df['NEW_SRC'].str.decode(\"utf-8\")\n"
   ]
  },
  {
   "cell_type": "code",
   "execution_count": 142,
   "id": "7390cefd-5fc0-4dd2-90e3-543cce3295de",
   "metadata": {},
   "outputs": [
    {
     "data": {
      "text/plain": [
       "0         0\n",
       "1         0\n",
       "2         0\n",
       "3         0\n",
       "4         0\n",
       "         ..\n",
       "564789    1\n",
       "564790    1\n",
       "564791    1\n",
       "564792    1\n",
       "564793    1\n",
       "Name: NEW_SRC, Length: 564794, dtype: int64"
      ]
     },
     "execution_count": 142,
     "metadata": {},
     "output_type": "execute_result"
    }
   ],
   "source": [
    "df['NEW_SRC'].apply(lambda x: 1 if x else 0)\n"
   ]
  },
  {
   "cell_type": "code",
   "execution_count": 151,
   "id": "28700440-1793-4d53-9d9f-46df2858a40e",
   "metadata": {},
   "outputs": [
    {
     "data": {
      "text/plain": [
       "DMAG_CAT\n",
       "0    513893\n",
       "1     50901\n",
       "Name: count, dtype: int64"
      ]
     },
     "execution_count": 151,
     "metadata": {},
     "output_type": "execute_result"
    }
   ],
   "source": [
    "df['DMAG_CAT'].str.decode(\"utf-8\").apply(lambda x: 1 if x else 0).value_counts()"
   ]
  }
 ],
 "metadata": {
  "kernelspec": {
   "display_name": "Python 3 (ipykernel)",
   "language": "python",
   "name": "python3"
  },
  "language_info": {
   "codemirror_mode": {
    "name": "ipython",
    "version": 3
   },
   "file_extension": ".py",
   "mimetype": "text/x-python",
   "name": "python",
   "nbconvert_exporter": "python",
   "pygments_lexer": "ipython3",
   "version": "3.12.0"
  }
 },
 "nbformat": 4,
 "nbformat_minor": 5
}
